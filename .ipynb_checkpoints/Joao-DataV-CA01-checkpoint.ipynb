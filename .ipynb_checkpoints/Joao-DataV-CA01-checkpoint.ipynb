{
 "cells": [
  {
   "cell_type": "markdown",
   "id": "d640c03d-cac1-4f96-8a9b-c066ce521e27",
   "metadata": {},
   "source": [
    "# Import Library and Loading DataSet"
   ]
  },
  {
   "cell_type": "code",
   "execution_count": 1,
   "id": "22bedb5d-3d34-407c-a286-36f1568dacb4",
   "metadata": {},
   "outputs": [],
   "source": [
    "import matplotlib.pyplot as plt\n",
    "import seaborn as sns"
   ]
  },
  {
   "cell_type": "code",
   "execution_count": 2,
   "id": "462655c2-3dbc-4561-b7ac-cbe2dbaee5d4",
   "metadata": {},
   "outputs": [],
   "source": [
    "# load dataset\n",
    "import pandas as pd\n",
    "df = pd.read_excel(\"/Users/joao/Desktop/Data Visualisation & Communication/Data-Visualisation/all_data_M_2023.xlsx\",engine=\"openpyxl\")\n"
   ]
  },
  {
   "cell_type": "markdown",
   "id": "960dd172-4733-491e-bbf6-343b87db508d",
   "metadata": {},
   "source": [
    "## get the location of the files"
   ]
  },
  {
   "cell_type": "code",
   "execution_count": null,
   "id": "b447a59c-e65c-4c15-a0c8-8fe7f298bd86",
   "metadata": {},
   "outputs": [],
   "source": [
    "import os\n",
    "os.getcwd()"
   ]
  },
  {
   "cell_type": "markdown",
   "id": "78500f9a-43ec-47cf-80ee-0dd26c2a805f",
   "metadata": {},
   "source": [
    "## visualisation the structure of the dataset rows/columns"
   ]
  },
  {
   "cell_type": "code",
   "execution_count": 3,
   "id": "41693f15-8bd1-405a-b255-dc0a01c2a273",
   "metadata": {},
   "outputs": [
    {
     "data": {
      "text/html": [
       "<div>\n",
       "<style scoped>\n",
       "    .dataframe tbody tr th:only-of-type {\n",
       "        vertical-align: middle;\n",
       "    }\n",
       "\n",
       "    .dataframe tbody tr th {\n",
       "        vertical-align: top;\n",
       "    }\n",
       "\n",
       "    .dataframe thead th {\n",
       "        text-align: right;\n",
       "    }\n",
       "</style>\n",
       "<table border=\"1\" class=\"dataframe\">\n",
       "  <thead>\n",
       "    <tr style=\"text-align: right;\">\n",
       "      <th></th>\n",
       "      <th>AREA</th>\n",
       "      <th>AREA_TITLE</th>\n",
       "      <th>AREA_TYPE</th>\n",
       "      <th>PRIM_STATE</th>\n",
       "      <th>NAICS</th>\n",
       "      <th>NAICS_TITLE</th>\n",
       "      <th>I_GROUP</th>\n",
       "      <th>OWN_CODE</th>\n",
       "      <th>OCC_CODE</th>\n",
       "      <th>OCC_TITLE</th>\n",
       "      <th>...</th>\n",
       "      <th>H_MEDIAN</th>\n",
       "      <th>H_PCT75</th>\n",
       "      <th>H_PCT90</th>\n",
       "      <th>A_PCT10</th>\n",
       "      <th>A_PCT25</th>\n",
       "      <th>A_MEDIAN</th>\n",
       "      <th>A_PCT75</th>\n",
       "      <th>A_PCT90</th>\n",
       "      <th>ANNUAL</th>\n",
       "      <th>HOURLY</th>\n",
       "    </tr>\n",
       "  </thead>\n",
       "  <tbody>\n",
       "    <tr>\n",
       "      <th>0</th>\n",
       "      <td>99</td>\n",
       "      <td>U.S.</td>\n",
       "      <td>1</td>\n",
       "      <td>US</td>\n",
       "      <td>000000</td>\n",
       "      <td>Cross-industry</td>\n",
       "      <td>cross-industry</td>\n",
       "      <td>1235</td>\n",
       "      <td>00-0000</td>\n",
       "      <td>All Occupations</td>\n",
       "      <td>...</td>\n",
       "      <td>23.11</td>\n",
       "      <td>37.01</td>\n",
       "      <td>58.4</td>\n",
       "      <td>29050</td>\n",
       "      <td>35660</td>\n",
       "      <td>48060</td>\n",
       "      <td>76980</td>\n",
       "      <td>121470</td>\n",
       "      <td>NaN</td>\n",
       "      <td>NaN</td>\n",
       "    </tr>\n",
       "    <tr>\n",
       "      <th>1</th>\n",
       "      <td>99</td>\n",
       "      <td>U.S.</td>\n",
       "      <td>1</td>\n",
       "      <td>US</td>\n",
       "      <td>000000</td>\n",
       "      <td>Cross-industry</td>\n",
       "      <td>cross-industry</td>\n",
       "      <td>1235</td>\n",
       "      <td>11-0000</td>\n",
       "      <td>Management Occupations</td>\n",
       "      <td>...</td>\n",
       "      <td>56.19</td>\n",
       "      <td>81.29</td>\n",
       "      <td>111.36</td>\n",
       "      <td>54550</td>\n",
       "      <td>78330</td>\n",
       "      <td>116880</td>\n",
       "      <td>169090</td>\n",
       "      <td>231620</td>\n",
       "      <td>NaN</td>\n",
       "      <td>NaN</td>\n",
       "    </tr>\n",
       "    <tr>\n",
       "      <th>2</th>\n",
       "      <td>99</td>\n",
       "      <td>U.S.</td>\n",
       "      <td>1</td>\n",
       "      <td>US</td>\n",
       "      <td>000000</td>\n",
       "      <td>Cross-industry</td>\n",
       "      <td>cross-industry</td>\n",
       "      <td>1235</td>\n",
       "      <td>11-1000</td>\n",
       "      <td>Top Executives</td>\n",
       "      <td>...</td>\n",
       "      <td>49.74</td>\n",
       "      <td>79.57</td>\n",
       "      <td>#</td>\n",
       "      <td>46400</td>\n",
       "      <td>66170</td>\n",
       "      <td>103460</td>\n",
       "      <td>165500</td>\n",
       "      <td>#</td>\n",
       "      <td>NaN</td>\n",
       "      <td>NaN</td>\n",
       "    </tr>\n",
       "    <tr>\n",
       "      <th>3</th>\n",
       "      <td>99</td>\n",
       "      <td>U.S.</td>\n",
       "      <td>1</td>\n",
       "      <td>US</td>\n",
       "      <td>000000</td>\n",
       "      <td>Cross-industry</td>\n",
       "      <td>cross-industry</td>\n",
       "      <td>1235</td>\n",
       "      <td>11-1010</td>\n",
       "      <td>Chief Executives</td>\n",
       "      <td>...</td>\n",
       "      <td>99.37</td>\n",
       "      <td>#</td>\n",
       "      <td>#</td>\n",
       "      <td>80000</td>\n",
       "      <td>130840</td>\n",
       "      <td>206680</td>\n",
       "      <td>#</td>\n",
       "      <td>#</td>\n",
       "      <td>NaN</td>\n",
       "      <td>NaN</td>\n",
       "    </tr>\n",
       "    <tr>\n",
       "      <th>4</th>\n",
       "      <td>99</td>\n",
       "      <td>U.S.</td>\n",
       "      <td>1</td>\n",
       "      <td>US</td>\n",
       "      <td>000000</td>\n",
       "      <td>Cross-industry</td>\n",
       "      <td>cross-industry</td>\n",
       "      <td>1235</td>\n",
       "      <td>11-1011</td>\n",
       "      <td>Chief Executives</td>\n",
       "      <td>...</td>\n",
       "      <td>99.37</td>\n",
       "      <td>#</td>\n",
       "      <td>#</td>\n",
       "      <td>80000</td>\n",
       "      <td>130840</td>\n",
       "      <td>206680</td>\n",
       "      <td>#</td>\n",
       "      <td>#</td>\n",
       "      <td>NaN</td>\n",
       "      <td>NaN</td>\n",
       "    </tr>\n",
       "  </tbody>\n",
       "</table>\n",
       "<p>5 rows × 32 columns</p>\n",
       "</div>"
      ],
      "text/plain": [
       "   AREA AREA_TITLE  AREA_TYPE PRIM_STATE   NAICS     NAICS_TITLE  \\\n",
       "0    99       U.S.          1         US  000000  Cross-industry   \n",
       "1    99       U.S.          1         US  000000  Cross-industry   \n",
       "2    99       U.S.          1         US  000000  Cross-industry   \n",
       "3    99       U.S.          1         US  000000  Cross-industry   \n",
       "4    99       U.S.          1         US  000000  Cross-industry   \n",
       "\n",
       "          I_GROUP  OWN_CODE OCC_CODE               OCC_TITLE  ... H_MEDIAN  \\\n",
       "0  cross-industry      1235  00-0000         All Occupations  ...    23.11   \n",
       "1  cross-industry      1235  11-0000  Management Occupations  ...    56.19   \n",
       "2  cross-industry      1235  11-1000          Top Executives  ...    49.74   \n",
       "3  cross-industry      1235  11-1010        Chief Executives  ...    99.37   \n",
       "4  cross-industry      1235  11-1011        Chief Executives  ...    99.37   \n",
       "\n",
       "  H_PCT75 H_PCT90 A_PCT10 A_PCT25 A_MEDIAN A_PCT75 A_PCT90 ANNUAL HOURLY  \n",
       "0   37.01    58.4   29050   35660    48060   76980  121470    NaN    NaN  \n",
       "1   81.29  111.36   54550   78330   116880  169090  231620    NaN    NaN  \n",
       "2   79.57       #   46400   66170   103460  165500       #    NaN    NaN  \n",
       "3       #       #   80000  130840   206680       #       #    NaN    NaN  \n",
       "4       #       #   80000  130840   206680       #       #    NaN    NaN  \n",
       "\n",
       "[5 rows x 32 columns]"
      ]
     },
     "execution_count": 3,
     "metadata": {},
     "output_type": "execute_result"
    }
   ],
   "source": [
    "df.head()"
   ]
  },
  {
   "cell_type": "code",
   "execution_count": null,
   "id": "6620cb10-665f-46de-9e1d-310fddb041a2",
   "metadata": {},
   "outputs": [],
   "source": [
    "df.shape"
   ]
  },
  {
   "cell_type": "code",
   "execution_count": null,
   "id": "78e1f897-abeb-4a27-a176-d4f88b099447",
   "metadata": {},
   "outputs": [],
   "source": [
    "df.info()"
   ]
  },
  {
   "cell_type": "code",
   "execution_count": null,
   "id": "c7e36ae3-361f-4a2c-bf78-514a4e7b9954",
   "metadata": {},
   "outputs": [],
   "source": [
    "df.columns"
   ]
  },
  {
   "cell_type": "markdown",
   "id": "86f9359b-7927-4c11-8cc3-bc659ab12875",
   "metadata": {},
   "source": [
    "# now lets filter the information\n",
    "## we know dataset has 413327 rows and 32 columns\n",
    "following we need to select only the data we need to perform our data visualisation"
   ]
  },
  {
   "cell_type": "code",
   "execution_count": null,
   "id": "41b4ea8c-33ce-4f6f-b892-41c44d098fa9",
   "metadata": {},
   "outputs": [],
   "source": [
    "# Selecting only the jobs occupation we want \n",
    "keywords = [\"Data\", \"Artificial\", \"Software\", \"Machine Learning\", \"AI\"]\n",
    "\n",
    "df_ai = df[df[\"OCC_TITLE\"].str.contains('|'.join(keywords), case=False, na=False)]\n",
    "\n",
    "# display the first 20 lines for checking teh dataset\n",
    "df_ai[[\"OCC_TITLE\", \"TOT_EMP\", \"A_MEAN\", \"AREA_TITLE\"]].head(20)\n"
   ]
  },
  {
   "cell_type": "code",
   "execution_count": null,
   "id": "feb7c011-7314-4a0a-acf0-df3b972121e4",
   "metadata": {},
   "outputs": [],
   "source": []
  }
 ],
 "metadata": {
  "kernelspec": {
   "display_name": "Python [conda env:base] *",
   "language": "python",
   "name": "conda-base-py"
  },
  "language_info": {
   "codemirror_mode": {
    "name": "ipython",
    "version": 3
   },
   "file_extension": ".py",
   "mimetype": "text/x-python",
   "name": "python",
   "nbconvert_exporter": "python",
   "pygments_lexer": "ipython3",
   "version": "3.12.4"
  }
 },
 "nbformat": 4,
 "nbformat_minor": 5
}
