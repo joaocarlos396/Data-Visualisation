{
 "cells": [
  {
   "cell_type": "markdown",
   "id": "d640c03d-cac1-4f96-8a9b-c066ce521e27",
   "metadata": {},
   "source": [
    "# Import Library and Loading DataSet"
   ]
  },
  {
   "cell_type": "code",
   "execution_count": 1,
   "id": "22bedb5d-3d34-407c-a286-36f1568dacb4",
   "metadata": {},
   "outputs": [],
   "source": [
    "import matplotlib.pyplot as plt\n",
    "import seaborn as sns"
   ]
  },
  {
   "cell_type": "code",
   "execution_count": 2,
   "id": "462655c2-3dbc-4561-b7ac-cbe2dbaee5d4",
   "metadata": {},
   "outputs": [],
   "source": [
    "# load dataset\n",
    "import pandas as pd\n",
    "df = pd.read_excel(\"/Users/joao/Desktop/Data Visualisation & Communication/Data-Visualisation/all_data_M_2023.xlsx\",engine=\"openpyxl\")\n"
   ]
  },
  {
   "cell_type": "markdown",
   "id": "960dd172-4733-491e-bbf6-343b87db508d",
   "metadata": {},
   "source": [
    "## get the location of the files"
   ]
  },
  {
   "cell_type": "code",
   "execution_count": 3,
   "id": "b447a59c-e65c-4c15-a0c8-8fe7f298bd86",
   "metadata": {},
   "outputs": [
    {
     "data": {
      "text/plain": [
       "'/Users/joao/Desktop/Data Visualisation & Communication/Data-Visualisation'"
      ]
     },
     "execution_count": 3,
     "metadata": {},
     "output_type": "execute_result"
    }
   ],
   "source": [
    "import os\n",
    "os.getcwd()"
   ]
  },
  {
   "cell_type": "markdown",
   "id": "78500f9a-43ec-47cf-80ee-0dd26c2a805f",
   "metadata": {},
   "source": [
    "## visualisation the structure of the dataset rows/columns"
   ]
  },
  {
   "cell_type": "code",
   "execution_count": 27,
   "id": "41693f15-8bd1-405a-b255-dc0a01c2a273",
   "metadata": {},
   "outputs": [
    {
     "data": {
      "text/html": [
       "<div>\n",
       "<style scoped>\n",
       "    .dataframe tbody tr th:only-of-type {\n",
       "        vertical-align: middle;\n",
       "    }\n",
       "\n",
       "    .dataframe tbody tr th {\n",
       "        vertical-align: top;\n",
       "    }\n",
       "\n",
       "    .dataframe thead th {\n",
       "        text-align: right;\n",
       "    }\n",
       "</style>\n",
       "<table border=\"1\" class=\"dataframe\">\n",
       "  <thead>\n",
       "    <tr style=\"text-align: right;\">\n",
       "      <th></th>\n",
       "      <th>AREA</th>\n",
       "      <th>AREA_TITLE</th>\n",
       "      <th>AREA_TYPE</th>\n",
       "      <th>PRIM_STATE</th>\n",
       "      <th>NAICS</th>\n",
       "      <th>NAICS_TITLE</th>\n",
       "      <th>I_GROUP</th>\n",
       "      <th>OWN_CODE</th>\n",
       "      <th>OCC_CODE</th>\n",
       "      <th>OCC_TITLE</th>\n",
       "      <th>...</th>\n",
       "      <th>H_MEDIAN</th>\n",
       "      <th>H_PCT75</th>\n",
       "      <th>H_PCT90</th>\n",
       "      <th>A_PCT10</th>\n",
       "      <th>A_PCT25</th>\n",
       "      <th>A_MEDIAN</th>\n",
       "      <th>A_PCT75</th>\n",
       "      <th>A_PCT90</th>\n",
       "      <th>ANNUAL</th>\n",
       "      <th>HOURLY</th>\n",
       "    </tr>\n",
       "  </thead>\n",
       "  <tbody>\n",
       "    <tr>\n",
       "      <th>0</th>\n",
       "      <td>99</td>\n",
       "      <td>U.S.</td>\n",
       "      <td>1</td>\n",
       "      <td>US</td>\n",
       "      <td>000000</td>\n",
       "      <td>Cross-industry</td>\n",
       "      <td>cross-industry</td>\n",
       "      <td>1235</td>\n",
       "      <td>00-0000</td>\n",
       "      <td>All Occupations</td>\n",
       "      <td>...</td>\n",
       "      <td>23.11</td>\n",
       "      <td>37.01</td>\n",
       "      <td>58.4</td>\n",
       "      <td>29050</td>\n",
       "      <td>35660</td>\n",
       "      <td>48060</td>\n",
       "      <td>76980</td>\n",
       "      <td>121470</td>\n",
       "      <td>NaN</td>\n",
       "      <td>NaN</td>\n",
       "    </tr>\n",
       "    <tr>\n",
       "      <th>1</th>\n",
       "      <td>99</td>\n",
       "      <td>U.S.</td>\n",
       "      <td>1</td>\n",
       "      <td>US</td>\n",
       "      <td>000000</td>\n",
       "      <td>Cross-industry</td>\n",
       "      <td>cross-industry</td>\n",
       "      <td>1235</td>\n",
       "      <td>11-0000</td>\n",
       "      <td>Management Occupations</td>\n",
       "      <td>...</td>\n",
       "      <td>56.19</td>\n",
       "      <td>81.29</td>\n",
       "      <td>111.36</td>\n",
       "      <td>54550</td>\n",
       "      <td>78330</td>\n",
       "      <td>116880</td>\n",
       "      <td>169090</td>\n",
       "      <td>231620</td>\n",
       "      <td>NaN</td>\n",
       "      <td>NaN</td>\n",
       "    </tr>\n",
       "    <tr>\n",
       "      <th>2</th>\n",
       "      <td>99</td>\n",
       "      <td>U.S.</td>\n",
       "      <td>1</td>\n",
       "      <td>US</td>\n",
       "      <td>000000</td>\n",
       "      <td>Cross-industry</td>\n",
       "      <td>cross-industry</td>\n",
       "      <td>1235</td>\n",
       "      <td>11-1000</td>\n",
       "      <td>Top Executives</td>\n",
       "      <td>...</td>\n",
       "      <td>49.74</td>\n",
       "      <td>79.57</td>\n",
       "      <td>#</td>\n",
       "      <td>46400</td>\n",
       "      <td>66170</td>\n",
       "      <td>103460</td>\n",
       "      <td>165500</td>\n",
       "      <td>#</td>\n",
       "      <td>NaN</td>\n",
       "      <td>NaN</td>\n",
       "    </tr>\n",
       "    <tr>\n",
       "      <th>3</th>\n",
       "      <td>99</td>\n",
       "      <td>U.S.</td>\n",
       "      <td>1</td>\n",
       "      <td>US</td>\n",
       "      <td>000000</td>\n",
       "      <td>Cross-industry</td>\n",
       "      <td>cross-industry</td>\n",
       "      <td>1235</td>\n",
       "      <td>11-1010</td>\n",
       "      <td>Chief Executives</td>\n",
       "      <td>...</td>\n",
       "      <td>99.37</td>\n",
       "      <td>#</td>\n",
       "      <td>#</td>\n",
       "      <td>80000</td>\n",
       "      <td>130840</td>\n",
       "      <td>206680</td>\n",
       "      <td>#</td>\n",
       "      <td>#</td>\n",
       "      <td>NaN</td>\n",
       "      <td>NaN</td>\n",
       "    </tr>\n",
       "    <tr>\n",
       "      <th>4</th>\n",
       "      <td>99</td>\n",
       "      <td>U.S.</td>\n",
       "      <td>1</td>\n",
       "      <td>US</td>\n",
       "      <td>000000</td>\n",
       "      <td>Cross-industry</td>\n",
       "      <td>cross-industry</td>\n",
       "      <td>1235</td>\n",
       "      <td>11-1011</td>\n",
       "      <td>Chief Executives</td>\n",
       "      <td>...</td>\n",
       "      <td>99.37</td>\n",
       "      <td>#</td>\n",
       "      <td>#</td>\n",
       "      <td>80000</td>\n",
       "      <td>130840</td>\n",
       "      <td>206680</td>\n",
       "      <td>#</td>\n",
       "      <td>#</td>\n",
       "      <td>NaN</td>\n",
       "      <td>NaN</td>\n",
       "    </tr>\n",
       "  </tbody>\n",
       "</table>\n",
       "<p>5 rows × 32 columns</p>\n",
       "</div>"
      ],
      "text/plain": [
       "   AREA AREA_TITLE  AREA_TYPE PRIM_STATE   NAICS     NAICS_TITLE  \\\n",
       "0    99       U.S.          1         US  000000  Cross-industry   \n",
       "1    99       U.S.          1         US  000000  Cross-industry   \n",
       "2    99       U.S.          1         US  000000  Cross-industry   \n",
       "3    99       U.S.          1         US  000000  Cross-industry   \n",
       "4    99       U.S.          1         US  000000  Cross-industry   \n",
       "\n",
       "          I_GROUP  OWN_CODE OCC_CODE               OCC_TITLE  ... H_MEDIAN  \\\n",
       "0  cross-industry      1235  00-0000         All Occupations  ...    23.11   \n",
       "1  cross-industry      1235  11-0000  Management Occupations  ...    56.19   \n",
       "2  cross-industry      1235  11-1000          Top Executives  ...    49.74   \n",
       "3  cross-industry      1235  11-1010        Chief Executives  ...    99.37   \n",
       "4  cross-industry      1235  11-1011        Chief Executives  ...    99.37   \n",
       "\n",
       "  H_PCT75 H_PCT90 A_PCT10 A_PCT25 A_MEDIAN A_PCT75 A_PCT90 ANNUAL HOURLY  \n",
       "0   37.01    58.4   29050   35660    48060   76980  121470    NaN    NaN  \n",
       "1   81.29  111.36   54550   78330   116880  169090  231620    NaN    NaN  \n",
       "2   79.57       #   46400   66170   103460  165500       #    NaN    NaN  \n",
       "3       #       #   80000  130840   206680       #       #    NaN    NaN  \n",
       "4       #       #   80000  130840   206680       #       #    NaN    NaN  \n",
       "\n",
       "[5 rows x 32 columns]"
      ]
     },
     "execution_count": 27,
     "metadata": {},
     "output_type": "execute_result"
    }
   ],
   "source": [
    "df.head()"
   ]
  },
  {
   "cell_type": "code",
   "execution_count": 28,
   "id": "6620cb10-665f-46de-9e1d-310fddb041a2",
   "metadata": {},
   "outputs": [
    {
     "data": {
      "text/plain": [
       "(413327, 32)"
      ]
     },
     "execution_count": 28,
     "metadata": {},
     "output_type": "execute_result"
    }
   ],
   "source": [
    "df.shape"
   ]
  },
  {
   "cell_type": "code",
   "execution_count": 29,
   "id": "78e1f897-abeb-4a27-a176-d4f88b099447",
   "metadata": {},
   "outputs": [
    {
     "name": "stdout",
     "output_type": "stream",
     "text": [
      "<class 'pandas.core.frame.DataFrame'>\n",
      "RangeIndex: 413327 entries, 0 to 413326\n",
      "Data columns (total 32 columns):\n",
      " #   Column        Non-Null Count   Dtype \n",
      "---  ------        --------------   ----- \n",
      " 0   AREA          413327 non-null  int64 \n",
      " 1   AREA_TITLE    413327 non-null  object\n",
      " 2   AREA_TYPE     413327 non-null  int64 \n",
      " 3   PRIM_STATE    413327 non-null  object\n",
      " 4   NAICS         413327 non-null  object\n",
      " 5   NAICS_TITLE   413327 non-null  object\n",
      " 6   I_GROUP       413327 non-null  object\n",
      " 7   OWN_CODE      413327 non-null  int64 \n",
      " 8   OCC_CODE      413327 non-null  object\n",
      " 9   OCC_TITLE     413327 non-null  object\n",
      " 10  O_GROUP       413327 non-null  object\n",
      " 11  TOT_EMP       413327 non-null  object\n",
      " 12  EMP_PRSE      413327 non-null  object\n",
      " 13  JOBS_1000     235826 non-null  object\n",
      " 14  LOC_QUOTIENT  235826 non-null  object\n",
      " 15  PCT_TOTAL     170470 non-null  object\n",
      " 16  PCT_RPT       170470 non-null  object\n",
      " 17  H_MEAN        413327 non-null  object\n",
      " 18  A_MEAN        413327 non-null  object\n",
      " 19  MEAN_PRSE     413327 non-null  object\n",
      " 20  H_PCT10       413327 non-null  object\n",
      " 21  H_PCT25       413327 non-null  object\n",
      " 22  H_MEDIAN      413327 non-null  object\n",
      " 23  H_PCT75       413327 non-null  object\n",
      " 24  H_PCT90       413327 non-null  object\n",
      " 25  A_PCT10       413327 non-null  object\n",
      " 26  A_PCT25       413327 non-null  object\n",
      " 27  A_MEDIAN      413327 non-null  object\n",
      " 28  A_PCT75       413327 non-null  object\n",
      " 29  A_PCT90       413327 non-null  object\n",
      " 30  ANNUAL        16497 non-null   object\n",
      " 31  HOURLY        755 non-null     object\n",
      "dtypes: int64(3), object(29)\n",
      "memory usage: 100.9+ MB\n"
     ]
    }
   ],
   "source": [
    "df.info()"
   ]
  },
  {
   "cell_type": "code",
   "execution_count": 30,
   "id": "c7e36ae3-361f-4a2c-bf78-514a4e7b9954",
   "metadata": {},
   "outputs": [
    {
     "data": {
      "text/plain": [
       "Index(['AREA', 'AREA_TITLE', 'AREA_TYPE', 'PRIM_STATE', 'NAICS', 'NAICS_TITLE',\n",
       "       'I_GROUP', 'OWN_CODE', 'OCC_CODE', 'OCC_TITLE', 'O_GROUP', 'TOT_EMP',\n",
       "       'EMP_PRSE', 'JOBS_1000', 'LOC_QUOTIENT', 'PCT_TOTAL', 'PCT_RPT',\n",
       "       'H_MEAN', 'A_MEAN', 'MEAN_PRSE', 'H_PCT10', 'H_PCT25', 'H_MEDIAN',\n",
       "       'H_PCT75', 'H_PCT90', 'A_PCT10', 'A_PCT25', 'A_MEDIAN', 'A_PCT75',\n",
       "       'A_PCT90', 'ANNUAL', 'HOURLY'],\n",
       "      dtype='object')"
      ]
     },
     "execution_count": 30,
     "metadata": {},
     "output_type": "execute_result"
    }
   ],
   "source": [
    "df.columns"
   ]
  },
  {
   "cell_type": "markdown",
   "id": "86f9359b-7927-4c11-8cc3-bc659ab12875",
   "metadata": {},
   "source": [
    "# now lets filter the information\n",
    "## we know dataset has 413327 rows and 32 columns\n",
    "following we need to select only the data we need to perform our data visualisation"
   ]
  },
  {
   "cell_type": "markdown",
   "id": "64261316-aeff-4821-891c-a1fa16aa2314",
   "metadata": {},
   "source": [
    "# Display a list of 50 first  Occupation Tittle of the dataset"
   ]
  },
  {
   "cell_type": "code",
   "execution_count": 31,
   "id": "b2286897-0646-43a0-b593-1946ef1d8915",
   "metadata": {},
   "outputs": [
    {
     "data": {
      "text/plain": [
       "0                                                              All Occupations\n",
       "1                                                       Management Occupations\n",
       "2                                                               Top Executives\n",
       "3                                                             Chief Executives\n",
       "4                                                             Chief Executives\n",
       "5                                              General and Operations Managers\n",
       "6                                              General and Operations Managers\n",
       "7                                                                  Legislators\n",
       "8                                                                  Legislators\n",
       "9     Advertising, Marketing, Promotions, Public Relations, and Sales Managers\n",
       "10                                         Advertising and Promotions Managers\n",
       "11                                         Advertising and Promotions Managers\n",
       "12                                                Marketing and Sales Managers\n",
       "13                                                          Marketing Managers\n",
       "14                                                              Sales Managers\n",
       "15                                   Public Relations and Fundraising Managers\n",
       "16                                                   Public Relations Managers\n",
       "17                                                        Fundraising Managers\n",
       "18                                             Operations Specialties Managers\n",
       "19                             Administrative Services and Facilities Managers\n",
       "20                                            Administrative Services Managers\n",
       "21                                                         Facilities Managers\n",
       "22                                   Computer and Information Systems Managers\n",
       "23                                   Computer and Information Systems Managers\n",
       "24                                                          Financial Managers\n",
       "25                                                          Financial Managers\n",
       "26                                              Industrial Production Managers\n",
       "27                                              Industrial Production Managers\n",
       "28                                                         Purchasing Managers\n",
       "29                                                         Purchasing Managers\n",
       "30                          Transportation, Storage, and Distribution Managers\n",
       "31                          Transportation, Storage, and Distribution Managers\n",
       "32                                          Compensation and Benefits Managers\n",
       "33                                          Compensation and Benefits Managers\n",
       "34                                                    Human Resources Managers\n",
       "35                                                    Human Resources Managers\n",
       "36                                           Training and Development Managers\n",
       "37                                           Training and Development Managers\n",
       "38                                                Other Management Occupations\n",
       "39                          Farmers, Ranchers, and Other Agricultural Managers\n",
       "40                          Farmers, Ranchers, and Other Agricultural Managers\n",
       "41                                                       Construction Managers\n",
       "42                                                       Construction Managers\n",
       "43                                      Education and Childcare Administrators\n",
       "44               Education and Childcare Administrators, Preschool and Daycare\n",
       "45                    Education Administrators, Kindergarten through Secondary\n",
       "46                                     Education Administrators, Postsecondary\n",
       "47                                         Education Administrators, All Other\n",
       "48                                      Architectural and Engineering Managers\n",
       "49                                      Architectural and Engineering Managers\n",
       "Name: OCC_TITLE, dtype: object"
      ]
     },
     "execution_count": 31,
     "metadata": {},
     "output_type": "execute_result"
    }
   ],
   "source": [
    "df[\"OCC_TITLE\"].head(50)"
   ]
  },
  {
   "cell_type": "markdown",
   "id": "e46a31f2-f23e-4601-aeae-31c6e01a6ae3",
   "metadata": {},
   "source": [
    "# We must select only relevants fields\n",
    "\n",
    "## OCC_TITTLE:Occupation Tittle\n",
    "## TOT_EMP: Total of Employees\n",
    "## A_MEAN: Annual Mean Wage\n",
    "## AREA_TITTLE"
   ]
  },
  {
   "cell_type": "code",
   "execution_count": 43,
   "id": "ea770fd9-1950-40ad-aaec-a0e0fe55e1c5",
   "metadata": {},
   "outputs": [
    {
     "name": "stderr",
     "output_type": "stream",
     "text": [
      "/var/folders/2_/rpqtn9_54tz9phyzqknf_m200000gn/T/ipykernel_17021/2057363852.py:34: UserWarning: This pattern is interpreted as a regular expression, and has match groups. To actually get the groups, use str.extract.\n",
      "  df_ai = df[df[\"OCC_TITLE\"].str.contains(pattern, case=False, na=False)]\n"
     ]
    },
    {
     "data": {
      "text/html": [
       "<div>\n",
       "<style scoped>\n",
       "    .dataframe tbody tr th:only-of-type {\n",
       "        vertical-align: middle;\n",
       "    }\n",
       "\n",
       "    .dataframe tbody tr th {\n",
       "        vertical-align: top;\n",
       "    }\n",
       "\n",
       "    .dataframe thead th {\n",
       "        text-align: right;\n",
       "    }\n",
       "</style>\n",
       "<table border=\"1\" class=\"dataframe\">\n",
       "  <thead>\n",
       "    <tr style=\"text-align: right;\">\n",
       "      <th></th>\n",
       "      <th>OCC_TITLE</th>\n",
       "      <th>TOT_EMP</th>\n",
       "      <th>A_MEAN</th>\n",
       "      <th>AREA_TITLE</th>\n",
       "    </tr>\n",
       "  </thead>\n",
       "  <tbody>\n",
       "    <tr>\n",
       "      <th>22</th>\n",
       "      <td>Computer and Information Systems Managers</td>\n",
       "      <td>592600</td>\n",
       "      <td>180720</td>\n",
       "      <td>U.S.</td>\n",
       "    </tr>\n",
       "    <tr>\n",
       "      <th>23</th>\n",
       "      <td>Computer and Information Systems Managers</td>\n",
       "      <td>592600</td>\n",
       "      <td>180720</td>\n",
       "      <td>U.S.</td>\n",
       "    </tr>\n",
       "    <tr>\n",
       "      <th>135</th>\n",
       "      <td>Computer Systems Analysts</td>\n",
       "      <td>498810</td>\n",
       "      <td>110800</td>\n",
       "      <td>U.S.</td>\n",
       "    </tr>\n",
       "    <tr>\n",
       "      <th>142</th>\n",
       "      <td>Database and Network Administrators and Architects</td>\n",
       "      <td>633180</td>\n",
       "      <td>113710</td>\n",
       "      <td>U.S.</td>\n",
       "    </tr>\n",
       "    <tr>\n",
       "      <th>144</th>\n",
       "      <td>Database Administrators</td>\n",
       "      <td>76140</td>\n",
       "      <td>104810</td>\n",
       "      <td>U.S.</td>\n",
       "    </tr>\n",
       "    <tr>\n",
       "      <th>...</th>\n",
       "      <td>...</td>\n",
       "      <td>...</td>\n",
       "      <td>...</td>\n",
       "      <td>...</td>\n",
       "    </tr>\n",
       "    <tr>\n",
       "      <th>403876</th>\n",
       "      <td>Security and Fire Alarm Systems Installers</td>\n",
       "      <td>40</td>\n",
       "      <td>41160</td>\n",
       "      <td>Southern West Virginia nonmetropolitan area</td>\n",
       "    </tr>\n",
       "    <tr>\n",
       "      <th>403877</th>\n",
       "      <td>Security and Fire Alarm Systems Installers</td>\n",
       "      <td>50</td>\n",
       "      <td>39470</td>\n",
       "      <td>Northern West Virginia nonmetropolitan area</td>\n",
       "    </tr>\n",
       "    <tr>\n",
       "      <th>403878</th>\n",
       "      <td>Security and Fire Alarm Systems Installers</td>\n",
       "      <td>90</td>\n",
       "      <td>34660</td>\n",
       "      <td>Guam</td>\n",
       "    </tr>\n",
       "    <tr>\n",
       "      <th>406384</th>\n",
       "      <td>Aircraft Structure, Surfaces, Rigging, and Systems Assemblers</td>\n",
       "      <td>70</td>\n",
       "      <td>*</td>\n",
       "      <td>South Georgia nonmetropolitan area</td>\n",
       "    </tr>\n",
       "    <tr>\n",
       "      <th>406385</th>\n",
       "      <td>Aircraft Structure, Surfaces, Rigging, and Systems Assemblers</td>\n",
       "      <td>100</td>\n",
       "      <td>43660</td>\n",
       "      <td>Kansas nonmetropolitan area</td>\n",
       "    </tr>\n",
       "  </tbody>\n",
       "</table>\n",
       "<p>8606 rows × 4 columns</p>\n",
       "</div>"
      ],
      "text/plain": [
       "                                                            OCC_TITLE TOT_EMP  \\\n",
       "22                          Computer and Information Systems Managers  592600   \n",
       "23                          Computer and Information Systems Managers  592600   \n",
       "135                                         Computer Systems Analysts  498810   \n",
       "142                Database and Network Administrators and Architects  633180   \n",
       "144                                           Database Administrators   76140   \n",
       "...                                                               ...     ...   \n",
       "403876                     Security and Fire Alarm Systems Installers      40   \n",
       "403877                     Security and Fire Alarm Systems Installers      50   \n",
       "403878                     Security and Fire Alarm Systems Installers      90   \n",
       "406384  Aircraft Structure, Surfaces, Rigging, and Systems Assemblers      70   \n",
       "406385  Aircraft Structure, Surfaces, Rigging, and Systems Assemblers     100   \n",
       "\n",
       "        A_MEAN                                   AREA_TITLE  \n",
       "22      180720                                         U.S.  \n",
       "23      180720                                         U.S.  \n",
       "135     110800                                         U.S.  \n",
       "142     113710                                         U.S.  \n",
       "144     104810                                         U.S.  \n",
       "...        ...                                          ...  \n",
       "403876   41160  Southern West Virginia nonmetropolitan area  \n",
       "403877   39470  Northern West Virginia nonmetropolitan area  \n",
       "403878   34660                                         Guam  \n",
       "406384       *           South Georgia nonmetropolitan area  \n",
       "406385   43660                  Kansas nonmetropolitan area  \n",
       "\n",
       "[8606 rows x 4 columns]"
      ]
     },
     "execution_count": 43,
     "metadata": {},
     "output_type": "execute_result"
    }
   ],
   "source": [
    "# List of keywords related to AI, Data Science and Software Development\n",
    "\n",
    "keywords = [\n",
    "    \"Artificial\",\n",
    "    \"Intelligence\",\n",
    "    \"AI\",\n",
    "    \"Machine Learning\",\n",
    "    \"Deep Learning\",\n",
    "    \"Data Scientist\",\n",
    "    \"Data Analyst\",\n",
    "    \"Data Engineer\",\n",
    "    \"Data Architect\",\n",
    "    \"Database\",\n",
    "    \"Big Data\",\n",
    "    \"Statistician\",\n",
    "    \"Operations Research\",\n",
    "    \"Software\",\n",
    "    \"Developer\",\n",
    "    \"Engineer\",\n",
    "    \"Programmer\",\n",
    "    \"Application\",\n",
    "    \"Systems\",\n",
    "    \"Web\",\n",
    "    \"Full Stack\",\n",
    "    \"Cloud\"\n",
    "]\n",
    "# shows all content of the field\n",
    "pd.set_option(\"display.max_colwidth\", None)\n",
    "\n",
    "# pattern to find job occupations\n",
    "pattern = r\"\\b(\" + \"|\".join(keywords) + r\")\\b\"\n",
    "\n",
    "# filter related to keywords\n",
    "df_ai = df[df[\"OCC_TITLE\"].str.contains(pattern, case=False, na=False)]\n",
    "\n",
    "# display 20 first results\n",
    "df_ai[[\"OCC_TITLE\", \"TOT_EMP\", \"A_MEAN\", \"AREA_TITLE\"]]"
   ]
  },
  {
   "cell_type": "markdown",
   "id": "2bb9eb4d-8c4d-436a-b5c5-5640f07c2603",
   "metadata": {},
   "source": [
    "# Applying Manual filter for irrelevant Occupations"
   ]
  },
  {
   "cell_type": "code",
   "execution_count": 44,
   "id": "5092a708-cab1-46f4-a3a5-892f1cb220ac",
   "metadata": {},
   "outputs": [
    {
     "name": "stderr",
     "output_type": "stream",
     "text": [
      "/var/folders/2_/rpqtn9_54tz9phyzqknf_m200000gn/T/ipykernel_17021/2636938729.py:4: UserWarning: This pattern is interpreted as a regular expression, and has match groups. To actually get the groups, use str.extract.\n",
      "  df[\"OCC_TITLE\"].str.contains(pattern, case=False, na=False) &\n"
     ]
    }
   ],
   "source": [
    "exclude = [\"Fire Alarm\", \"Aircraft\", \"Installers\", \"Assemblers\"]\n",
    "\n",
    "df_ai = df[\n",
    "    df[\"OCC_TITLE\"].str.contains(pattern, case=False, na=False) &\n",
    "    ~df[\"OCC_TITLE\"].str.contains('|'.join(exclude), case=False, na=False)\n",
    "]\n"
   ]
  },
  {
   "cell_type": "code",
   "execution_count": 45,
   "id": "382ca25f-6be2-465e-a04d-0f45f226de89",
   "metadata": {},
   "outputs": [
    {
     "data": {
      "text/html": [
       "<div>\n",
       "<style scoped>\n",
       "    .dataframe tbody tr th:only-of-type {\n",
       "        vertical-align: middle;\n",
       "    }\n",
       "\n",
       "    .dataframe tbody tr th {\n",
       "        vertical-align: top;\n",
       "    }\n",
       "\n",
       "    .dataframe thead th {\n",
       "        text-align: right;\n",
       "    }\n",
       "</style>\n",
       "<table border=\"1\" class=\"dataframe\">\n",
       "  <thead>\n",
       "    <tr style=\"text-align: right;\">\n",
       "      <th></th>\n",
       "      <th>OCC_TITLE</th>\n",
       "      <th>TOT_EMP</th>\n",
       "      <th>A_MEAN</th>\n",
       "      <th>AREA_TITLE</th>\n",
       "    </tr>\n",
       "  </thead>\n",
       "  <tbody>\n",
       "    <tr>\n",
       "      <th>22</th>\n",
       "      <td>Computer and Information Systems Managers</td>\n",
       "      <td>592600</td>\n",
       "      <td>180720</td>\n",
       "      <td>U.S.</td>\n",
       "    </tr>\n",
       "    <tr>\n",
       "      <th>135</th>\n",
       "      <td>Computer Systems Analysts</td>\n",
       "      <td>498810</td>\n",
       "      <td>110800</td>\n",
       "      <td>U.S.</td>\n",
       "    </tr>\n",
       "    <tr>\n",
       "      <th>142</th>\n",
       "      <td>Database and Network Administrators and Architects</td>\n",
       "      <td>633180</td>\n",
       "      <td>113710</td>\n",
       "      <td>U.S.</td>\n",
       "    </tr>\n",
       "    <tr>\n",
       "      <th>144</th>\n",
       "      <td>Database Administrators</td>\n",
       "      <td>76140</td>\n",
       "      <td>104810</td>\n",
       "      <td>U.S.</td>\n",
       "    </tr>\n",
       "    <tr>\n",
       "      <th>145</th>\n",
       "      <td>Database Architects</td>\n",
       "      <td>59920</td>\n",
       "      <td>137030</td>\n",
       "      <td>U.S.</td>\n",
       "    </tr>\n",
       "    <tr>\n",
       "      <th>146</th>\n",
       "      <td>Network and Computer Systems Administrators</td>\n",
       "      <td>323020</td>\n",
       "      <td>100580</td>\n",
       "      <td>U.S.</td>\n",
       "    </tr>\n",
       "    <tr>\n",
       "      <th>147</th>\n",
       "      <td>Software and Web Developers, Programmers, and Testers</td>\n",
       "      <td>2176710</td>\n",
       "      <td>130500</td>\n",
       "      <td>U.S.</td>\n",
       "    </tr>\n",
       "    <tr>\n",
       "      <th>149</th>\n",
       "      <td>Software Developers</td>\n",
       "      <td>1656880</td>\n",
       "      <td>138110</td>\n",
       "      <td>U.S.</td>\n",
       "    </tr>\n",
       "    <tr>\n",
       "      <th>150</th>\n",
       "      <td>Software Quality Assurance Analysts and Testers</td>\n",
       "      <td>203040</td>\n",
       "      <td>108460</td>\n",
       "      <td>U.S.</td>\n",
       "    </tr>\n",
       "    <tr>\n",
       "      <th>151</th>\n",
       "      <td>Web Developers</td>\n",
       "      <td>85350</td>\n",
       "      <td>95570</td>\n",
       "      <td>U.S.</td>\n",
       "    </tr>\n",
       "    <tr>\n",
       "      <th>152</th>\n",
       "      <td>Web and Digital Interface Designers</td>\n",
       "      <td>111060</td>\n",
       "      <td>108820</td>\n",
       "      <td>U.S.</td>\n",
       "    </tr>\n",
       "    <tr>\n",
       "      <th>160</th>\n",
       "      <td>Operations Research Analysts</td>\n",
       "      <td>117880</td>\n",
       "      <td>95600</td>\n",
       "      <td>U.S.</td>\n",
       "    </tr>\n",
       "  </tbody>\n",
       "</table>\n",
       "</div>"
      ],
      "text/plain": [
       "                                                 OCC_TITLE  TOT_EMP  A_MEAN  \\\n",
       "22               Computer and Information Systems Managers   592600  180720   \n",
       "135                              Computer Systems Analysts   498810  110800   \n",
       "142     Database and Network Administrators and Architects   633180  113710   \n",
       "144                                Database Administrators    76140  104810   \n",
       "145                                    Database Architects    59920  137030   \n",
       "146            Network and Computer Systems Administrators   323020  100580   \n",
       "147  Software and Web Developers, Programmers, and Testers  2176710  130500   \n",
       "149                                    Software Developers  1656880  138110   \n",
       "150        Software Quality Assurance Analysts and Testers   203040  108460   \n",
       "151                                         Web Developers    85350   95570   \n",
       "152                    Web and Digital Interface Designers   111060  108820   \n",
       "160                           Operations Research Analysts   117880   95600   \n",
       "\n",
       "    AREA_TITLE  \n",
       "22        U.S.  \n",
       "135       U.S.  \n",
       "142       U.S.  \n",
       "144       U.S.  \n",
       "145       U.S.  \n",
       "146       U.S.  \n",
       "147       U.S.  \n",
       "149       U.S.  \n",
       "150       U.S.  \n",
       "151       U.S.  \n",
       "152       U.S.  \n",
       "160       U.S.  "
      ]
     },
     "execution_count": 45,
     "metadata": {},
     "output_type": "execute_result"
    }
   ],
   "source": [
    "df_ai_unique = df_ai.drop_duplicates(subset=[\"OCC_TITLE\"])\n",
    "df_ai_unique[[\"OCC_TITLE\", \"TOT_EMP\", \"A_MEAN\", \"AREA_TITLE\"]]"
   ]
  },
  {
   "cell_type": "markdown",
   "id": "19f2e878-bcee-462e-9234-2c2d06b98dd2",
   "metadata": {},
   "source": [
    "# Follow step  we must convert strings values in numerical values\n",
    "## TOT_EMP to Integer"
   ]
  },
  {
   "cell_type": "code",
   "execution_count": 46,
   "id": "27b38b6d-b73d-4f91-b7fd-d3ab4d82a5d9",
   "metadata": {
    "scrolled": true
   },
   "outputs": [
    {
     "name": "stderr",
     "output_type": "stream",
     "text": [
      "/var/folders/2_/rpqtn9_54tz9phyzqknf_m200000gn/T/ipykernel_17021/3049647707.py:5: SettingWithCopyWarning: \n",
      "A value is trying to be set on a copy of a slice from a DataFrame.\n",
      "Try using .loc[row_indexer,col_indexer] = value instead\n",
      "\n",
      "See the caveats in the documentation: https://pandas.pydata.org/pandas-docs/stable/user_guide/indexing.html#returning-a-view-versus-a-copy\n",
      "  df_ai[\"TOT_EMP\"] = (\n"
     ]
    }
   ],
   "source": [
    "# 1) Make sure  TOT_EMP is numerical values\n",
    "\n",
    "import pandas as pd\n",
    "\n",
    "df_ai[\"TOT_EMP\"] = (\n",
    "    df_ai[\"TOT_EMP\"]\n",
    "      .astype(str)                                #  string\n",
    "      .str.replace(r\"[^\\d\\.-]\", \"\", regex=True)   # remove NO numerical digits.)\n",
    "      .replace({\"\": pd.NA})                       # empt strings  -> NA\n",
    "      .pipe(pd.to_numeric, errors=\"coerce\")       # convert to numerical values;\n",
    ")\n",
    "\n",
    "# 2) Ordenate and pick  top 10 lines \n",
    "top10 = (\n",
    "    df_ai.groupby(\"OCC_TITLE\", as_index=False)[\"TOT_EMP\"]\n",
    "          .sum(min_count=1)   \n",
    "          .sort_values(\"TOT_EMP\", ascending=False)\n",
    "          .head(10)\n",
    ")"
   ]
  },
  {
   "cell_type": "markdown",
   "id": "ad1246cf-5edd-4362-b61b-9e2f8133dd14",
   "metadata": {},
   "source": [
    "# HORIZONTAL BAR PLOT"
   ]
  },
  {
   "cell_type": "code",
   "execution_count": 48,
   "id": "feb7c011-7314-4a0a-acf0-df3b972121e4",
   "metadata": {},
   "outputs": [
    {
     "name": "stderr",
     "output_type": "stream",
     "text": [
      "/var/folders/2_/rpqtn9_54tz9phyzqknf_m200000gn/T/ipykernel_17021/3019455598.py:2: FutureWarning: \n",
      "\n",
      "Passing `palette` without assigning `hue` is deprecated and will be removed in v0.14.0. Assign the `y` variable to `hue` and set `legend=False` for the same effect.\n",
      "\n",
      "  sns.barplot(x=\"TOT_EMP\", y=\"OCC_TITLE\", data=top10, palette=\"viridis\")\n"
     ]
    },
    {
     "data": {
      "image/png": "[encoded data removed]",
      "text/plain": [
       "<Figure size 1200x600 with 1 Axes>"
      ]
     },
     "metadata": {},
     "output_type": "display_data"
    }
   ],
   "source": [
    "plt.figure(figsize=(12,6))\n",
    "sns.barplot(x=\"TOT_EMP\", y=\"OCC_TITLE\", data=top10, palette=\"viridis\")\n",
    "plt.title(\"Top 10 Occupations in AI, Data Science and Software\", fontsize=16, color=\"blue\")\n",
    "plt.xlabel(\" EMPLOYEES (in millions)\", fontsize=16, color=\"blue\")\n",
    "plt.ylabel(\"Occupation\", fontsize=16, color=\"green\")\n",
    "plt.show()\n",
    "\n"
   ]
  },
  {
   "cell_type": "code",
   "execution_count": null,
   "id": "9b57444b-833e-4a40-bc2e-19c9610d7d37",
   "metadata": {},
   "outputs": [],
   "source": []
  }
 ],
 "metadata": {
  "kernelspec": {
   "display_name": "Python [conda env:base] *",
   "language": "python",
   "name": "conda-base-py"
  },
  "language_info": {
   "codemirror_mode": {
    "name": "ipython",
    "version": 3
   },
   "file_extension": ".py",
   "mimetype": "text/x-python",
   "name": "python",
   "nbconvert_exporter": "python",
   "pygments_lexer": "ipython3",
   "version": "3.12.4"
  }
 },
 "nbformat": 4,
 "nbformat_minor": 5
}
